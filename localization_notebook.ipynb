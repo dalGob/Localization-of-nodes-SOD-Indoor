{
 "cells": [
  {
   "cell_type": "markdown",
   "metadata": {},
   "source": [
    "# Developing a Machine Learning Model to Localize Sensor Nodes in a Wireless Sensor Network"
   ]
  },
  {
   "cell_type": "markdown",
   "metadata": {},
   "source": [
    "ToDo: \n",
    "1. Hyperparameter tuning\n",
    "2. Test the models on different buildings and floors\n",
    "3. Have working models by Thursday the 14th"
   ]
  },
  {
   "cell_type": "code",
   "execution_count": 1,
   "metadata": {},
   "outputs": [],
   "source": [
    "import pandas as pd\n"
   ]
  },
  {
   "cell_type": "code",
   "execution_count": 5,
   "metadata": {},
   "outputs": [
    {
     "name": "stdout",
     "output_type": "stream",
     "text": [
      "   MAC1  MAC2  MAC3  MAC4  MAC5  MAC6  MAC7  MAC8  MAC9  MAC10  ...  MAC51  \\\n",
      "0   -44   -48   -71   -85   -92   100   100   100   -88    100  ...    100   \n",
      "1   -37   -50   -72   -85   -93   100   -93   100   -86    100  ...    100   \n",
      "2   -41   -51   -68   -84   -88   100   -93   100   -84    100  ...    100   \n",
      "3   -38   -50   -67   -89   -83   -90   -92   100   -83    100  ...    100   \n",
      "4   -35   -57   -63   -87   -86   -87   100   100   -81    100  ...    100   \n",
      "\n",
      "   MAC52  ECoord  NCoord  FloorID  BuildingID  SceneID  UserID  PhoneID  \\\n",
      "0    100    45.0    17.5        1           1        1       4        3   \n",
      "1    100    45.5    17.5        1           1        1       4        3   \n",
      "2    100    46.0    17.5        1           1        1       4        3   \n",
      "3    100    46.5    17.5        1           1        1       4        3   \n",
      "4    100    46.9    17.5        1           1        1       4        3   \n",
      "\n",
      "   SampleTimes  \n",
      "0            1  \n",
      "1            1  \n",
      "2            1  \n",
      "3            1  \n",
      "4            1  \n",
      "\n",
      "[5 rows x 60 columns]\n",
      "   MAC1  MAC2  MAC3  MAC4  MAC5  MAC6  MAC7  MAC8  MAC9  MAC10  ...  MAC51  \\\n",
      "0   -46   -56   -76   100   100   100   -93   100   -81    -88  ...    100   \n",
      "1   -46   -56   -76   100   100   100   -93   100   -81    -88  ...    100   \n",
      "2   -54   -54   -76   100   100   100   100   100   -81    100  ...    100   \n",
      "3   -54   -54   -76   100   100   100   100   100   -81    100  ...    100   \n",
      "4   -54   -54   -76   100   100   100   100   100   -81    100  ...    100   \n",
      "\n",
      "   MAC52  ECoord  NCoord  FloorID  BuildingID  SceneID  UserID  PhoneID  \\\n",
      "0    100    46.0    18.0        1           1        1       4        3   \n",
      "1    100    46.0    18.0        1           1        1       4        3   \n",
      "2    100    46.0    18.0        1           1        1       4        3   \n",
      "3    100    46.0    18.0        1           1        1       4        3   \n",
      "4    100    46.0    18.0        1           1        1       4        3   \n",
      "\n",
      "   SampleTimes  \n",
      "0            1  \n",
      "1            2  \n",
      "2            3  \n",
      "3            4  \n",
      "4            5  \n",
      "\n",
      "[5 rows x 60 columns]\n"
     ]
    }
   ],
   "source": [
    "# Load the training and testing data splits into data frames\n",
    "train = pd.read_csv('./CETC331/Training_CETC331.csv')\n",
    "test  = pd.read_csv('./CETC331/Testing_CETC331.csv')\n"
   ]
  }
 ],
 "metadata": {
  "kernelspec": {
   "display_name": "Python 3",
   "language": "python",
   "name": "python3"
  },
  "language_info": {
   "codemirror_mode": {
    "name": "ipython",
    "version": 3
   },
   "file_extension": ".py",
   "mimetype": "text/x-python",
   "name": "python",
   "nbconvert_exporter": "python",
   "pygments_lexer": "ipython3",
   "version": "3.9.5"
  }
 },
 "nbformat": 4,
 "nbformat_minor": 2
}
