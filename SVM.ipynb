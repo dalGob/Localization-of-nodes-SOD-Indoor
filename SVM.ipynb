{
 "cells": [
  {
   "cell_type": "code",
   "execution_count": null,
   "metadata": {},
   "outputs": [],
   "source": [
    "from sklearn.preprocessing import LabelEncoder\n",
    "from sklearn.model_selection import train_test_split\n"
   ]
  },
  {
   "cell_type": "code",
   "execution_count": null,
   "metadata": {},
   "outputs": [],
   "source": [
    "import pandas as pd\n",
    "\n",
    "df = pd.read_csv('', header=None)\n",
    "\n",
    "\"\"\"Once the df is created, it must be split into training and testing portions. \"\"\"\n",
    "\n"
   ]
  },
  {
   "cell_type": "code",
   "execution_count": null,
   "metadata": {},
   "outputs": [],
   "source": [
    "from sklearn.preprocessing import LabelEncoder\n",
    "\n",
    "# \n",
    "from sklearn.model_selection import train_test_split\n",
    "\n",
    "X_train, X_test, y_train, y_test = train_test_split(X, y, \n",
    "                    test_size=0.20,\n",
    "                    stratify=y,\n",
    "                    random_state=1)"
   ]
  },
  {
   "cell_type": "code",
   "execution_count": null,
   "metadata": {},
   "outputs": [],
   "source": [
    "from sklearn.model_selection import GridSearchCV\n",
    "from sklearn.preprocessing import StandardScaler\n",
    "from sklearn.svm import SVR\n",
    "from sklearn.pipeline import make_pipeline\n",
    "from sklearn.metrics import mean_squared_error, r2_score\n",
    "\n",
    "\"\"\"\n",
    "    Todo: \n",
    "    1. Load in data, (and sprinkel on some preprocessing)\n",
    "    2. Make some graphs at the end!!!!!!!!!!!!!!!!!!! \n",
    "\"\"\"\n",
    "\n",
    "\n",
    "pipe_svr = make_pipeline(StandardScaler(),\n",
    "                        SVR(random_state=1))\n",
    "\n",
    "# Here, select hyperparameters are defined \n",
    "param_range = [0.0001, 0.001, 0.01, 0.1, 1.0, 10.0, 100.0]\n",
    "poly_param_range = [2, 3, 4, 5, 6]\n",
    "\n",
    "param_grid = [\n",
    "    {'svr__C': param_range, 'svr__kernel': ['linear']},\n",
    "    {'svr__C': param_range, 'svr__gamma': param_range, 'svr__kernel': ['rbf']},\n",
    "    {'svr__C': param_range, 'svr__gamma': param_range, 'svr__kernel': ['sigmoid']},\n",
    "    {'svr__C': param_range, 'svr__gamma': param_range, 'svr__kernel': ['poly'], 'svr__degree': poly_param_range}\n",
    "]\n",
    "\n",
    "# Hyperparameters are tuned, an d\n",
    "gs = GridSearchCV(estimator=pipe_svr, \n",
    "                    param_grid=param_grid, \n",
    "                    scoring='neg_mean_squared_error', \n",
    "                    refit=True,\n",
    "                    cv=10,\n",
    "                    n_jobs=-1)\n",
    "\n",
    "gs = gs.fit(X_train, y_train)\n",
    "\n",
    "regressor = gs.best_estimator_\n",
    "\n",
    "y_pred = regressor.predict(X_test)\n",
    "\n",
    "mse = mean_squared_error(y_test, y_pred)\n",
    "R2_score = r2_score(y_test, y_pred)\n",
    "\n",
    "print(f'MSE = {mse}')\n",
    "print(f'R2 Error = {R2_score}')\n",
    "print(gs.best_score_)\n",
    "print(gs.best_params_)\n",
    "\n"
   ]
  }
 ],
 "metadata": {
  "language_info": {
   "name": "python"
  }
 },
 "nbformat": 4,
 "nbformat_minor": 2
}
